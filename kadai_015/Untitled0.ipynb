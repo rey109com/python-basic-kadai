{
  "nbformat": 4,
  "nbformat_minor": 0,
  "metadata": {
    "colab": {
      "provenance": []
    },
    "kernelspec": {
      "name": "python3",
      "display_name": "Python 3"
    },
    "language_info": {
      "name": "python"
    }
  },
  "cells": [
    {
      "cell_type": "code",
      "source": [
        "class Human:\n",
        "  def __init__(self, name, age):\n",
        "    self.name = name\n",
        "    self.age = age\n",
        "\n",
        "  def printinfo(self):\n",
        "    print(\"名前：\", self.name)\n",
        "    print(\"年齢：\", self.age)\n",
        "\n",
        "person = Human(\"侍太郎\", 36)\n",
        "\n",
        "person.printinfo()"
      ],
      "metadata": {
        "colab": {
          "base_uri": "https://localhost:8080/"
        },
        "id": "IOGYlkUTk7jN",
        "outputId": "c1b18a78-ca93-4db0-a510-5c2ab8b1f139"
      },
      "execution_count": 27,
      "outputs": [
        {
          "output_type": "stream",
          "name": "stdout",
          "text": [
            "名前： 侍太郎\n",
            "年齢： 36\n"
          ]
        }
      ]
    }
  ]
}