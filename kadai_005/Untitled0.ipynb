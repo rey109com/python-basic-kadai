{
  "nbformat": 4,
  "nbformat_minor": 0,
  "metadata": {
    "colab": {
      "provenance": []
    },
    "kernelspec": {
      "name": "python3",
      "display_name": "Python 3"
    },
    "language_info": {
      "name": "python"
    }
  },
  "cells": [
    {
      "cell_type": "code",
      "execution_count": 17,
      "metadata": {
        "colab": {
          "base_uri": "https://localhost:8080/"
        },
        "id": "mR5hcwGBLhFW",
        "outputId": "204bbc16-f6b0-4f1b-dd9c-949194ac938d"
      },
      "outputs": [
        {
          "output_type": "stream",
          "name": "stdout",
          "text": [
            "10\n"
          ]
        }
      ],
      "source": [
        "number1 = 10\n",
        "number2 = 20\n",
        "number3 = 5\n",
        "print(number1 + number2 * number3 % 2)"
      ]
    }
  ]
}