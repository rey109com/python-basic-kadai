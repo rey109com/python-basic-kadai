{
  "nbformat": 4,
  "nbformat_minor": 0,
  "metadata": {
    "colab": {
      "provenance": []
    },
    "kernelspec": {
      "name": "python3",
      "display_name": "Python 3"
    },
    "language_info": {
      "name": "python"
    }
  },
  "cells": [
    {
      "cell_type": "code",
      "execution_count": 19,
      "metadata": {
        "colab": {
          "base_uri": "https://localhost:8080/"
        },
        "id": "mR5hcwGBLhFW",
        "outputId": "d46f16f7-cc05-4d7e-88cb-2e3f8e6f2a18"
      },
      "outputs": [
        {
          "output_type": "stream",
          "name": "stdout",
          "text": [
            "75.0cm²\n"
          ]
        }
      ],
      "source": [
        "# 上辺、下辺、高さを変数に代入する\n",
        "top = 10       # 上辺（cm）\n",
        "bottom = 20    # 下辺（cm）\n",
        "height = 5     # 高さ（cm）\n",
        "\n",
        "# 台形の面積を計算する公式\n",
        "area = (top + bottom) * height / 2\n",
        "\n",
        "# 結果を出力する（単位つきで）\n",
        "print(str(area) + \"cm²\")"
      ]
    }
  ]
}