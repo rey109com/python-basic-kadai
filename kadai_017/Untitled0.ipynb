{
  "nbformat": 4,
  "nbformat_minor": 0,
  "metadata": {
    "colab": {
      "provenance": []
    },
    "kernelspec": {
      "name": "python3",
      "display_name": "Python 3"
    },
    "language_info": {
      "name": "python"
    }
  },
  "cells": [
    {
      "cell_type": "code",
      "source": [
        "class Human:\n",
        "    def __init__(self, name, age):\n",
        "      self.name = name\n",
        "      self.age = age\n",
        "\n",
        "    def check_adult(self):\n",
        "      if self.age >= 20:\n",
        "        print(self.name + \"さんは大人です。\")\n",
        "      else:\n",
        "        print(self.name + \"さんは大人ではありません。\")\n",
        "\n",
        "user = [\n",
        "    Human(\"侍花子\", 29),\n",
        "    Human(\"侍太郎\", 18),\n",
        "    Human(\"侍二郎\", 20)\n",
        "]\n",
        "\n",
        "for person in user:\n",
        "    person.check_adult()"
      ],
      "metadata": {
        "colab": {
          "base_uri": "https://localhost:8080/"
        },
        "id": "vM0Kw05U2JrZ",
        "outputId": "2d816642-6a45-4fc5-e4a0-a1dc27d7edd6"
      },
      "execution_count": 49,
      "outputs": [
        {
          "output_type": "stream",
          "name": "stdout",
          "text": [
            "侍花子さんは大人です。\n",
            "侍太郎さんは大人ではありません。\n",
            "侍二郎さんは大人です。\n"
          ]
        }
      ]
    }
  ]
}