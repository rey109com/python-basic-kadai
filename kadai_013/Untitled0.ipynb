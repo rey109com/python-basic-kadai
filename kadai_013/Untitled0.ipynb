{
  "nbformat": 4,
  "nbformat_minor": 0,
  "metadata": {
    "colab": {
      "provenance": []
    },
    "kernelspec": {
      "name": "python3",
      "display_name": "Python 3"
    },
    "language_info": {
      "name": "python"
    }
  },
  "cells": [
    {
      "cell_type": "code",
      "source": [
        "def add_two_arguments(price, tax_percent):\n",
        "    tax_amount = price * (tax_percent / 100)\n",
        "    total_price =  price + tax_amount\n",
        "\n",
        "    print(f\"{total_price}円\")\n",
        "\n",
        "add_two_arguments(110, 10)"
      ],
      "metadata": {
        "colab": {
          "base_uri": "https://localhost:8080/"
        },
        "id": "YVqAP33XXkSK",
        "outputId": "099d9681-5fac-4fde-a5aa-aea874a0cc88"
      },
      "execution_count": 11,
      "outputs": [
        {
          "output_type": "stream",
          "name": "stdout",
          "text": [
            "121.0円\n"
          ]
        }
      ]
    }
  ]
}