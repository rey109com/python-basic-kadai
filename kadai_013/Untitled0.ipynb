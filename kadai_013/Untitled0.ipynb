{
  "nbformat": 4,
  "nbformat_minor": 0,
  "metadata": {
    "colab": {
      "provenance": []
    },
    "kernelspec": {
      "name": "python3",
      "display_name": "Python 3"
    },
    "language_info": {
      "name": "python"
    }
  },
  "cells": [
    {
      "cell_type": "code",
      "source": [
        "def add_two_arguments(price, tax_percent):\n",
        "    tax_amount = price * (tax_percent / 100)\n",
        "    total_price =  price + tax_amount\n",
        "\n",
        "    return total_price\n",
        "\n",
        "add_two_arguments(110, 10)"
      ],
      "metadata": {
        "colab": {
          "base_uri": "https://localhost:8080/"
        },
        "id": "YVqAP33XXkSK",
        "outputId": "5ae4d35d-f1d0-425b-e639-1baae4244fed"
      },
      "execution_count": 12,
      "outputs": [
        {
          "output_type": "execute_result",
          "data": {
            "text/plain": [
              "121.0"
            ]
          },
          "metadata": {},
          "execution_count": 12
        }
      ]
    }
  ]
}